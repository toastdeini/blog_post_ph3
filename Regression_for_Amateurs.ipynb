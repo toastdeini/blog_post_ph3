{
 "cells": [
  {
   "cell_type": "markdown",
   "metadata": {},
   "source": [
    "# Regression for Amateurs (and Humanities Majors)"
   ]
  },
  {
   "cell_type": "markdown",
   "metadata": {},
   "source": [
    "![img](images/serious_man.png)"
   ]
  },
  {
   "cell_type": "markdown",
   "metadata": {},
   "source": [
    "The *broad goal* of this notebook is to provide simple analogues between the fundamentals of machine learning (and associated libraries/algorithms) and baseline algebraic concepts that many prospective students of data science are likely already familiar with."
   ]
  },
  {
   "cell_type": "markdown",
   "metadata": {},
   "source": [
    "## Starting simple: a straight line"
   ]
  },
  {
   "cell_type": "markdown",
   "metadata": {},
   "source": [
    "First, I import numpy and matplotlib's `pyplot` libary using their standard aliases: `np` and `plt`."
   ]
  },
  {
   "cell_type": "code",
   "execution_count": 1,
   "metadata": {
    "ExecuteTime": {
     "end_time": "2022-04-27T03:03:29.499020Z",
     "start_time": "2022-04-27T03:03:29.066893Z"
    }
   },
   "outputs": [],
   "source": [
    "import numpy as np\n",
    "import matplotlib.pyplot as plt\n",
    "# Enabling display of matplotlib visuals in notebook\n",
    "%matplotlib inline"
   ]
  },
  {
   "cell_type": "markdown",
   "metadata": {},
   "source": [
    "Next, I define two variables that I can use to create a simple, demonstrative graph:\n",
    "\n",
    "- $x$, the *independent* variable, is an array of integers created using numpy's `arange` method.\n",
    "- $y$, the *dependent* variable, is an array of values *drawn from a function* that multiplies the value of $x$ by 3 then subtracts 3."
   ]
  },
  {
   "cell_type": "code",
   "execution_count": 14,
   "metadata": {
    "ExecuteTime": {
     "end_time": "2022-04-27T03:26:45.398560Z",
     "start_time": "2022-04-27T03:26:45.389543Z"
    }
   },
   "outputs": [],
   "source": [
    "# Creating a NumPy array of integers from 0 to 29\n",
    "x = np.arange(0, 30)\n",
    "\n",
    "# Creating variable y, a function of \n",
    "y = (3 * x) - 3"
   ]
  },
  {
   "cell_type": "markdown",
   "metadata": {},
   "source": [
    "The last line of that cell is just code for the simple linear formula $y = mx + b$, where $m = 3$ and $b = -3$. Below, we visualize that line."
   ]
  },
  {
   "cell_type": "code",
   "execution_count": 3,
   "metadata": {
    "ExecuteTime": {
     "end_time": "2022-04-27T03:03:30.094013Z",
     "start_time": "2022-04-27T03:03:29.516920Z"
    },
    "scrolled": false
   },
   "outputs": [
    {
     "data": {
      "image/png": "[encoded data removed]",
      "text/plain": [
       "<Figure size 720x576 with 1 Axes>"
      ]
     },
     "metadata": {
      "needs_background": "light"
     },
     "output_type": "display_data"
    }
   ],
   "source": [
    "# Plotting x against y!\n",
    "\n",
    "# Creating figure, establishing size\n",
    "fig, ax = plt.subplots(figsize = (10, 8))\n",
    "\n",
    "# Initializing line plot\n",
    "ax.plot(x, y,\n",
    "        linestyle = '-',\n",
    "        color = 'g',\n",
    "        label = 'y = 3x - 3')\n",
    "\n",
    "# Setting labels for x and y axes\n",
    "# (the text wrapped in dollar signs is LaTeX formatting!)\n",
    "ax.set_xlabel(xlabel = '$x$',\n",
    "              fontdict = {'fontsize': 14},\n",
    "              labelpad = 4)\n",
    "ax.set_ylabel(ylabel = '$y$',\n",
    "              fontdict = {'fontsize': 14},\n",
    "              labelpad = 4)\n",
    "\n",
    "# Creating and resizing legend\n",
    "ax.legend(loc = 'lower right',\n",
    "          fontsize = 'large')\n",
    "\n",
    "# Giving the graph a title\n",
    "ax.set_title(label = 'Graph of $y = 3x - 3$',\n",
    "             fontdict = {'fontsize': 18},\n",
    "             pad = 12);\n",
    "\n",
    "# Saving a high-res copy of the figure for future use\n",
    "# fig.savefig(fname = 'images/linear_function.jpg',\n",
    "#             dpi = 400)"
   ]
  },
  {
   "cell_type": "markdown",
   "metadata": {},
   "source": [
    "If only things were always **this** easy to plot! Sadly, real data is almost invariably going to be messier, and, further down in this notebook, I'll investigate how to **find a line that best fits your data**."
   ]
  },
  {
   "cell_type": "markdown",
   "metadata": {},
   "source": [
    "## Searching for a line of best fit"
   ]
  },
  {
   "cell_type": "code",
   "execution_count": 4,
   "metadata": {
    "ExecuteTime": {
     "end_time": "2022-04-27T03:03:30.886560Z",
     "start_time": "2022-04-27T03:03:30.095976Z"
    }
   },
   "outputs": [],
   "source": [
    "import pandas as pd\n",
    "import seaborn as sns"
   ]
  },
  {
   "cell_type": "markdown",
   "metadata": {},
   "source": [
    "We'll use the `iris` dataset - one of seaborn's 'toy' datasets - because of its relative compactness, and because its features (measures of length & width for the petals & sepals of three different types of iris) lend themselves well to illustrating linear relationships and linear regression."
   ]
  },
  {
   "cell_type": "code",
   "execution_count": 5,
   "metadata": {
    "ExecuteTime": {
     "end_time": "2022-04-27T03:03:30.918612Z",
     "start_time": "2022-04-27T03:03:30.888606Z"
    },
    "scrolled": true
   },
   "outputs": [
    {
     "name": "stdout",
     "output_type": "stream",
     "text": [
      "<class 'pandas.core.frame.DataFrame'>\n",
      "RangeIndex: 150 entries, 0 to 149\n",
      "Data columns (total 5 columns):\n",
      " #   Column        Non-Null Count  Dtype  \n",
      "---  ------        --------------  -----  \n",
      " 0   sepal_length  150 non-null    float64\n",
      " 1   sepal_width   150 non-null    float64\n",
      " 2   petal_length  150 non-null    float64\n",
      " 3   petal_width   150 non-null    float64\n",
      " 4   species       150 non-null    object \n",
      "dtypes: float64(4), object(1)\n",
      "memory usage: 6.0+ KB\n"
     ]
    }
   ],
   "source": [
    "# Load in some toy data, assign the DataFrame to `df`\n",
    "df = sns.load_dataset('iris')\n",
    "\n",
    "# Check it out: first, data types and size...\n",
    "df.info()"
   ]
  },
  {
   "cell_type": "code",
   "execution_count": 6,
   "metadata": {
    "ExecuteTime": {
     "end_time": "2022-04-27T03:03:30.949802Z",
     "start_time": "2022-04-27T03:03:30.922568Z"
    }
   },
   "outputs": [
    {
     "data": {
      "text/html": [
       "<div>\n",
       "<style scoped>\n",
       "    .dataframe tbody tr th:only-of-type {\n",
       "        vertical-align: middle;\n",
       "    }\n",
       "\n",
       "    .dataframe tbody tr th {\n",
       "        vertical-align: top;\n",
       "    }\n",
       "\n",
       "    .dataframe thead th {\n",
       "        text-align: right;\n",
       "    }\n",
       "</style>\n",
       "<table border=\"1\" class=\"dataframe\">\n",
       "  <thead>\n",
       "    <tr style=\"text-align: right;\">\n",
       "      <th></th>\n",
       "      <th>sepal_length</th>\n",
       "      <th>sepal_width</th>\n",
       "      <th>petal_length</th>\n",
       "      <th>petal_width</th>\n",
       "      <th>species</th>\n",
       "    </tr>\n",
       "  </thead>\n",
       "  <tbody>\n",
       "    <tr>\n",
       "      <th>58</th>\n",
       "      <td>6.6</td>\n",
       "      <td>2.9</td>\n",
       "      <td>4.6</td>\n",
       "      <td>1.3</td>\n",
       "      <td>versicolor</td>\n",
       "    </tr>\n",
       "    <tr>\n",
       "      <th>8</th>\n",
       "      <td>4.4</td>\n",
       "      <td>2.9</td>\n",
       "      <td>1.4</td>\n",
       "      <td>0.2</td>\n",
       "      <td>setosa</td>\n",
       "    </tr>\n",
       "    <tr>\n",
       "      <th>23</th>\n",
       "      <td>5.1</td>\n",
       "      <td>3.3</td>\n",
       "      <td>1.7</td>\n",
       "      <td>0.5</td>\n",
       "      <td>setosa</td>\n",
       "    </tr>\n",
       "    <tr>\n",
       "      <th>89</th>\n",
       "      <td>5.5</td>\n",
       "      <td>2.5</td>\n",
       "      <td>4.0</td>\n",
       "      <td>1.3</td>\n",
       "      <td>versicolor</td>\n",
       "    </tr>\n",
       "    <tr>\n",
       "      <th>138</th>\n",
       "      <td>6.0</td>\n",
       "      <td>3.0</td>\n",
       "      <td>4.8</td>\n",
       "      <td>1.8</td>\n",
       "      <td>virginica</td>\n",
       "    </tr>\n",
       "    <tr>\n",
       "      <th>2</th>\n",
       "      <td>4.7</td>\n",
       "      <td>3.2</td>\n",
       "      <td>1.3</td>\n",
       "      <td>0.2</td>\n",
       "      <td>setosa</td>\n",
       "    </tr>\n",
       "    <tr>\n",
       "      <th>94</th>\n",
       "      <td>5.6</td>\n",
       "      <td>2.7</td>\n",
       "      <td>4.2</td>\n",
       "      <td>1.3</td>\n",
       "      <td>versicolor</td>\n",
       "    </tr>\n",
       "    <tr>\n",
       "      <th>14</th>\n",
       "      <td>5.8</td>\n",
       "      <td>4.0</td>\n",
       "      <td>1.2</td>\n",
       "      <td>0.2</td>\n",
       "      <td>setosa</td>\n",
       "    </tr>\n",
       "    <tr>\n",
       "      <th>59</th>\n",
       "      <td>5.2</td>\n",
       "      <td>2.7</td>\n",
       "      <td>3.9</td>\n",
       "      <td>1.4</td>\n",
       "      <td>versicolor</td>\n",
       "    </tr>\n",
       "    <tr>\n",
       "      <th>84</th>\n",
       "      <td>5.4</td>\n",
       "      <td>3.0</td>\n",
       "      <td>4.5</td>\n",
       "      <td>1.5</td>\n",
       "      <td>versicolor</td>\n",
       "    </tr>\n",
       "  </tbody>\n",
       "</table>\n",
       "</div>"
      ],
      "text/plain": [
       "     sepal_length  sepal_width  petal_length  petal_width     species\n",
       "58            6.6          2.9           4.6          1.3  versicolor\n",
       "8             4.4          2.9           1.4          0.2      setosa\n",
       "23            5.1          3.3           1.7          0.5      setosa\n",
       "89            5.5          2.5           4.0          1.3  versicolor\n",
       "138           6.0          3.0           4.8          1.8   virginica\n",
       "2             4.7          3.2           1.3          0.2      setosa\n",
       "94            5.6          2.7           4.2          1.3  versicolor\n",
       "14            5.8          4.0           1.2          0.2      setosa\n",
       "59            5.2          2.7           3.9          1.4  versicolor\n",
       "84            5.4          3.0           4.5          1.5  versicolor"
      ]
     },
     "execution_count": 6,
     "metadata": {},
     "output_type": "execute_result"
    }
   ],
   "source": [
    "# ...and a few of the rows, to help us visualize the data\n",
    "df.sample(n=10,\n",
    "          random_state=138)"
   ]
  },
  {
   "cell_type": "markdown",
   "metadata": {},
   "source": [
    "Looking at some of the rows, I can observe and conclude that the values for `petal_length` and `sepal_length` tend to increase when one or the other increases, with some variance that seems to depend on `species`. We can probably, then, describe the relationship between `petal_length` and `sepal_length` using a **linear regression model**.\n",
    "\n",
    "Linear regression models are appropriate when there is a **linear relationship** between a target variable $y$ (also called a *dependent variable*, depending on what discipline you're working in) and one or more independent variables, represented by $X$.\n",
    "\n",
    "> There are some other [assumptions](https://sphweb.bumc.bu.edu/otlt/MPH-Modules/BS/R/R5_Correlation-Regression/R5_Correlation-Regression4.html) that your data should satisfy before you settle on using a linear regression model, but those are a bit outside the scope of this post. Part of why I'm using the `iris` dataset is because it *is* so neatly fit for linear regression, and this, after all, is only an example.\n",
    "\n",
    "If that didn't make sense, the graph below might help clear things up."
   ]
  },
  {
   "cell_type": "code",
   "execution_count": 7,
   "metadata": {
    "ExecuteTime": {
     "end_time": "2022-04-27T03:03:31.153513Z",
     "start_time": "2022-04-27T03:03:30.951797Z"
    },
    "scrolled": false
   },
   "outputs": [
    {
     "data": {
      "image/png": "[encoded data removed]",
      "text/plain": [
       "<Figure size 720x576 with 1 Axes>"
      ]
     },
     "metadata": {
      "needs_background": "light"
     },
     "output_type": "display_data"
    }
   ],
   "source": [
    "# Instantiate ax object, set figure size and title\n",
    "fig, ax = plt.subplots(figsize=(10, 8))\n",
    "ax.set_title('Petal length vs. sepal length (centimeters)')\n",
    "\n",
    "# Plot petal_length vs. sepal_length\n",
    "sns.scatterplot(x = df.petal_length,\n",
    "                y = df.sepal_length,\n",
    "                color = 'g')\n",
    "\n",
    "ax.set_xlabel('Petal length',\n",
    "              fontdict = {'fontsize': 14},\n",
    "              labelpad = 4)\n",
    "ax.set_ylabel('Sepal length',\n",
    "              fontdict = {'fontsize': 14},\n",
    "              labelpad = 4)\n",
    "\n",
    "# Formatting for clarity and readability\n",
    "plt.tight_layout()"
   ]
  },
  {
   "cell_type": "markdown",
   "metadata": {},
   "source": [
    "Glancing at the scatter plot above, we can reasonably conclude that there is a *linear relationship* of some degree between `petal_length` and `sepal_length`. But how can we ascertain *what* exactly that relationship is, or anything about the nature of that relationship? This is where tools for machine learning and inferential statistics come in handy."
   ]
  },
  {
   "cell_type": "markdown",
   "metadata": {},
   "source": [
    "## scikit-learn and `LinearRegression`"
   ]
  },
  {
   "cell_type": "markdown",
   "metadata": {},
   "source": [
    "seaborn's `regplot` provides a way to visualize linear regression very easily."
   ]
  },
  {
   "cell_type": "code",
   "execution_count": 13,
   "metadata": {
    "ExecuteTime": {
     "end_time": "2022-04-27T03:04:47.082419Z",
     "start_time": "2022-04-27T03:04:46.370770Z"
    },
    "scrolled": false
   },
   "outputs": [
    {
     "data": {
      "image/png": "[encoded data removed]",
      "text/plain": [
       "<Figure size 720x576 with 1 Axes>"
      ]
     },
     "metadata": {
      "needs_background": "light"
     },
     "output_type": "display_data"
    }
   ],
   "source": [
    "# Same code as before, but with `regplot` this time\n",
    "# instead of `scatterplot`\n",
    "\n",
    "fig, ax = plt.subplots(figsize=(10, 8))\n",
    "ax.set_title('Petal length vs. sepal length (centimeters)',\n",
    "             fontdict = {'fontsize': 18},\n",
    "             pad = 12)\n",
    "\n",
    "sns.regplot(x = df.petal_length,\n",
    "            y = df.sepal_length,\n",
    "            color = 'g')\n",
    "\n",
    "ax.set_xlabel('Petal length',\n",
    "              fontdict = {'fontsize': 14},\n",
    "              labelpad = 4)\n",
    "ax.set_ylabel('Sepal length',\n",
    "              fontdict = {'fontsize': 14},\n",
    "              labelpad = 4)\n",
    "\n",
    "plt.tight_layout()\n",
    "\n",
    "# fig.savefig(fname = 'images/best_fit_regplot.jpg',\n",
    "#             dpi = 400)"
   ]
  },
  {
   "cell_type": "markdown",
   "metadata": {},
   "source": [
    "Under the hood, seaborn has crunched and displayed a line that measures the relationship between `petal_length` and `sepal_length`. But what if we wanted some more information on that relationship?"
   ]
  },
  {
   "cell_type": "code",
   "execution_count": 9,
   "metadata": {
    "ExecuteTime": {
     "end_time": "2022-04-27T03:03:31.468302Z",
     "start_time": "2022-04-27T03:03:31.455138Z"
    }
   },
   "outputs": [],
   "source": [
    "X = df.drop(columns = ['sepal_length', 'species'])\n",
    "y = df.sepal_length"
   ]
  },
  {
   "cell_type": "code",
   "execution_count": 10,
   "metadata": {
    "ExecuteTime": {
     "end_time": "2022-04-27T03:03:31.652863Z",
     "start_time": "2022-04-27T03:03:31.470264Z"
    },
    "scrolled": true
   },
   "outputs": [
    {
     "data": {
      "text/plain": [
       "0.8586117200663179"
      ]
     },
     "execution_count": 10,
     "metadata": {},
     "output_type": "execute_result"
    }
   ],
   "source": [
    "# Import the relevant class from sk-learn\n",
    "from sklearn.linear_model import LinearRegression\n",
    "\n",
    "# Instantiate linear regression class object\n",
    "lr = LinearRegression()\n",
    "\n",
    "# Fit on X and y\n",
    "lr.fit(X, y)\n",
    "\n",
    "# Score!\n",
    "lr.score(X, y)"
   ]
  },
  {
   "cell_type": "markdown",
   "metadata": {},
   "source": [
    "The score that our model `lr` is returning on the data $X$ and $y$ is called the $r^2$ value - it describes the **proportion of variance** in the target variable $y$ (in this case, sepal length) is determined by $X$ (in this case, petal length). You can read more about the $r^2$ score and what it represents [here](https://en.wikipedia.org/wiki/Coefficient_of_determination)."
   ]
  }
 ],
 "metadata": {
  "kernelspec": {
   "display_name": "Python (learn-env)",
   "language": "python",
   "name": "learn-env"
  },
  "language_info": {
   "codemirror_mode": {
    "name": "ipython",
    "version": 3
   },
   "file_extension": ".py",
   "mimetype": "text/x-python",
   "name": "python",
   "nbconvert_exporter": "python",
   "pygments_lexer": "ipython3",
   "version": "3.8.5"
  },
  "toc": {
   "base_numbering": 1,
   "nav_menu": {},
   "number_sections": true,
   "sideBar": true,
   "skip_h1_title": false,
   "title_cell": "Table of Contents",
   "title_sidebar": "Contents",
   "toc_cell": false,
   "toc_position": {
    "height": "calc(100% - 180px)",
    "left": "10px",
    "top": "150px",
    "width": "330px"
   },
   "toc_section_display": true,
   "toc_window_display": false
  },
  "varInspector": {
   "cols": {
    "lenName": 16,
    "lenType": 16,
    "lenVar": 40
   },
   "kernels_config": {
    "python": {
     "delete_cmd_postfix": "",
     "delete_cmd_prefix": "del ",
     "library": "var_list.py",
     "varRefreshCmd": "print(var_dic_list())"
    },
    "r": {
     "delete_cmd_postfix": ") ",
     "delete_cmd_prefix": "rm(",
     "library": "var_list.r",
     "varRefreshCmd": "cat(var_dic_list()) "
    }
   },
   "types_to_exclude": [
    "module",
    "function",
    "builtin_function_or_method",
    "instance",
    "_Feature"
   ],
   "window_display": false
  }
 },
 "nbformat": 4,
 "nbformat_minor": 4
}
